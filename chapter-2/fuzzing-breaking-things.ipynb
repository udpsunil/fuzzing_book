{
 "cells": [
  {
   "cell_type": "code",
   "execution_count": 3,
   "metadata": {},
   "outputs": [],
   "source": [
    "import random"
   ]
  },
  {
   "cell_type": "code",
   "execution_count": 4,
   "metadata": {},
   "outputs": [],
   "source": [
    "def fuzzer(max_length=100, char_start=32, char_range=32):\n",
    "    \"\"\"A string of up to max_length characters in  the range\n",
    "    ['char_start', 'char_start' + 'char_range']\"\"\"\n",
    "    string_length = random.randrange(0, max_length+1)\n",
    "    out = \"\"\n",
    "    for i in range(0, string_length):\n",
    "        out += chr(random.randrange(char_start, char_start + char_range))\n",
    "    return out"
   ]
  },
  {
   "cell_type": "code",
   "execution_count": 5,
   "metadata": {},
   "outputs": [
    {
     "data": {
      "text/plain": [
       "'1)86!*$$%\"&\"$+-?/3-%1002-.*0'"
      ]
     },
     "execution_count": 5,
     "metadata": {},
     "output_type": "execute_result"
    }
   ],
   "source": [
    "fuzzer()"
   ]
  },
  {
   "cell_type": "code",
   "execution_count": 6,
   "metadata": {},
   "outputs": [
    {
     "data": {
      "text/plain": [
       "'2 ½å9·PX¿§Ý£;Ó\\x00¶\\r\\x89«\\x82\\x10da¢\\x9d\\x9bûq\\x99÷\\'ÂZ\\x9aÎ6x9´\\x04\\x7f\\x9f;x\\x06\\x10\\x89\\x15\\x1bÇu\\x869\\x99\\x1d×uyÄ\\x14Æù\\x90aÃM\\x9dh$\\x8dë9³©bÚ37m\\x9fx\\x1dç(¯\\x92+§\\x1fqß£zn©$Ð\\x01~£F\\n¼\\x87\\x8c\\x7f¨´\\x91g\\x90)\\x9e¢ó+\\x9f\\x9a\\x19ªv<P \\x89X\\xadUÚI}®\\x96Ì9n\\x95\\x92êiO²\\x81Å!çü\\x89\\x87&¤±ÀG.\\x8fµðÈl\\x89¡ÊÕf\\x03¥\\'ó\\x16{\\x02Ó\\x84\\r\"t>\\x107.\\x87Ý0\\x87/<É{\\x83D\\nÆ(9\\x7fÏ^øÈ\\x1f¶Öôû_\\x01\\x1bHTs!¿=Ú»öÔ¹»\\x11ó+A\\x10\\x87r\\x143PèØ\\x1aÁÊ\\nÝÛ·Ùß^Ou\\x04è+=Ø¶_Ú\\x11ÈõÂ\\x1blÞ(MÜ¯¢}\\x15Í\\x84ñÀ/Ä\\x89óó\\x15áÖ4÷\\xadõ×Ä\\x899o\\x94{åÚD¥Íq\\x9eì,\\x91Ù#þ\\x02ìØà.\\x94¢ÇÄ>Ãn´\\x84\\x12ÍOÃÙ¿G¸úd¯C\\x81\\x9d\\x1fOÕãG7ú^L\\xa05ï|\\x9c,gF\\x89/·µêË¼\\x1aè¯6XÈúw?DëK\\x90w±Ë\\x1e\\x13©\\x9däh\\x0ef\\x92\\x88:Ñyõ÷ÕD-\\xadó,£Háøß>èÇB¦æ6\\x10à4Þº\\n´+kAz\\x87T\\x96Í´»#\\x07\\xadÍ\\rèê¬Åð\\x87Ìè\\x97çÊ\\x11>\\x16bû\\x92%ò<Ù\\x14cg\\x1fÊ~0ò/M\\x8a(öHÍlÿ§×Â§\\x963Ðj\\x03Á\\x9a\\x96ãI¯cÖÆ\\x9eÕÉ¼y\\x1a\\x85Z\\x92¯¾\\x1b\\x13â\\x8cU|\\x82@ü~è\\x99ìÄ¯5ö@kcz\\tI\\x9c¹³vK\\x93ýyÅ\\x11\\x93F®!J÷)6\\x19\\x90zK©w½ÐÈ-\"Äm\\x8cÓ.å´Î¡½åqØGÛ\\x9bóº$V\\x98u\\x9dýM\\x19\\x8b0Ï_e{9âq¨æ£\\x1e©É\\x89ß\\xad(³\\x0b.²Qk\\\\OÓ¥í\\x03©\\x80cc\\x94¥UN\\x1e¸\\x85\\x8d\\x9bË\\x81\\x13\\x0fi]e´Ð`©£\\x9c\\x0f¨ìs+Â<±Çºä§Eç\\x06@Á½÷lø\\x85fý\\x99)N4\\x07\\x08¦\\x94¬b>ÚÓ\\rH\\x02ÿêO\\xa0\\x9aÚH¿æñ\\x86¶0\\x0e|Û\\x01]\\',!s9Ø\\x97É\\x81\\x908\\x07\\x9eKæ¸\\x07g¢û\\x02{úU6,\\x8eXÕ\\x18\\n·\\xa0\"\\x02ôVÏ-úó×\\x1fß\"Þ>ÐrÐr0+ÂM W\\x91Ï\\x8b\\'k\\x91;Òk¤Mv1vÖ;?\\x05h\\x0b\\x87.ªgº¥ên#Bâ\\x91KØ\\x87O)8¡\\x81\\x94J%y.ýÀ²Í¦ÕváfG}às®m\\\\§S°1lñ\\x13ë\\x828R\\'¹øÝ\\x7f¿\\\\b$m½ÿ\\x9f\\x99ø\\x17\\x7f5\\x91\"«\\x83XK\\x17zw\\x96D\\x9cÐ\\x1f\\x19\\',\\x19g&¤\\x07\\x06}qj\\x93ÿ6:l\\x95#½\\x8bµl\\x8eâ¦RÆ\\x19%\\\\ÎVûJ¥Þ¤R;_\"\\x98\\x1dû\\x0c\\x0cq\\x08¿©ãV-4K\\x1f\\x8dnA½!J\\r7¨8ØË\\x84Í9Hl«Ò¹\\x8dÍ\\x81kD¥ÌÅp\\x96f1+ö\\x18\\x0eÐ\\x1fµñ\\x89>ú\\x7f`Ï\\x01{\\x0b8·áüÛ\\x9e\\x00ÍJ\\x9eø8\\x90ì\\x84sìE\\x0f\\x18\\x03\\x02\\x1d\\x8f¬\\x98\\x7fQ\\x91%ÄÂ\\x0b\\x9bF\\x9cö3:8\\x85,\\x92¿\\x89þÏWÞp\\x06\\x93\\x96\\x15Íä\\x90ª;s\\x0f\\x9aMHE*kÿ\\x92QÍi\\x80x;F/üùUk_nÔ´i\\x1fä\\x08Wð0©\\x07q\\x9ag¡tÚÜ¼&ù{¾.\\x8e\\x82æ\\x04+1\\x14ùNß*EÁ7Êêqé\\x82£\\x8d\\x85ÌÚ W\\x17(\\x14â\\x0f}\\x957ûª0q\\x1d\\x01\\x1a3\\x99\\xad®ööh(Óxkþ²ÒÓ\\x9cþói~Ä^h\\x83\\x05ä\\x8f>XtÃw\\x7fÙ4]¼c\\x1f7Ø\\x92\\x17+\\x1fQûz»YdûÀÂ\\x1e\\x99\\x06\\x1c\\x84¼wc¸±\\x92Ã\\x8e2×úÿK\\x16xGò\\x84Ù÷|°©La\\x9dw\\x95QaÐßA`\\xa0ú¼íÛLìâ\\x85/hóÍn-öY3(ê\\x08\\x95¦¡\\x10ÐMJÚ¼1yu×-U\\x1dB;õ<\\x10L\\x06ï\\x01y\\x93\\x8c&@©)\\x89i\\x1f&WÊHPõ{w¬\\x06]:T\\x84·v,i,\\x053¯\\'æ\\x9dW+|f\\x06\\x08iy½²1\\x98×\\x05<Ä²!Õq\\x9cÌá7S~Éqõ\\x12\\x9b¨\\x88DxÁO<R)\\x08\\x1a>Üï2U\\x0b\\x15t\\x98o¿\\x98í;`¸²F\\x9eÁÕ\\x04ösF\\x1fú~\\x97|æT+E\\x08\\x8fêJ\\x04ÄÇ£\\x1aa×¬÷wÚT\\x8d\\x11e\\x86\\ncuµ&¥¦Ø\\'þå@l ¦%s\\x10\\x9bTÌ#º÷\\x1f\\x0cÜ\\x19¤¦4J?V£eó\\x80¾\\x06\\x12.¨ô*ûÚòp×Ì\\x02;\\x9cÆ\\x96\\x82R\\x86@9rrço.\\x96)\\x02\\x04~Ê$hrÇ÷\\r\\x11÷\\x13Nüu\\x9a\\x00&wF\\x05\\x9cËø8Ë£;vëÈ%·Fî\\x185<õM\\x16#q#¥\\x9c\\x181ùÆ×Á7\\x80Z\\x08ó1\\x06\\níÁ=ÀÑ\\x8f\\'VÄbÔ´\\x03¯2bÔK>:\\x1do²újÐ\\x86üÖWPô\\r\\x91ý§\\x9e1W5Õz*6\\x97V\\x8a\\x8d\\x0bÌ\"î»µ²Lb\\x1cÑbo«ê\\x1b1KoW£Ñ\\x845MËe\\x90µEó F|lî®Â±e$±q^¯HÉ=¾^÷2\\x05\\x9bÆ\\x9e\\x06n=VºpOÐbÀ¾ù¯{\\x17ò½\\x01ðîft*V\\x04#`\\x16QèG³¿]\\x1f\\x0b®4&YÈ\\x9f\\x18Ãz*·(¥m+Ïq%ÓéÎM\\x1dxgû+\\x14`FøGó\\x1bHÓ\\x86·\\x16Í\\n»·\\x83\\x82\\x1diöÀç:4û\\x96J¹Å\\x8aåÈJÀÍSó\\x9aÇ6l¿\\x94\\x84IöY\\x9fIÈÒèÕÞjan±ÎËI2ÿ\\x02\\x8eG½ÇÐÏçNØÎöÏ/\\x89\\x99ë]zÒ)\\x00K\\x0c\\x1d&\\x93\\x85R·?äx\\x14þ\\x1b\\x82ÉÌüD\\x13ì?\\x9c¦ãÞÀÏÑ®4\\x9b\\x12/3uÑ¾\\x99\\x15÷û\\x0f\\x02÷}\\x13&{}ÅÖ!ðÛ·<>Ü/hùF¡Ýñi%Û\\x8c\\x9a\\x83\\x8d\\x1cª®Õ5Íá\\x86÷Àd¾nÉ¿¹OÒ-\\x83´\\x12\\x8f1Òþ\\x0eXóìËÕ\\x9a´Y\\\\AýþßÞpY\\x8a\\x98\"j§\\x1aÊ\\x07<È®ä\\x96B:Tb^®ðuý[94Oã\\x0f\\r[ç#\\x1eõ®k\\x9eM(\\x0fÒj¨¡]\\rKIÈ\\x94i®ý\\\\\\x9eNu³¿,0Ø^}\\x9ckþà«r\"\\x1a\\x14ÿ\\x7fv/³\\x90-Å#\\x10Ëc\\x1a!o\\x18~ß\\x8b\\x01åv¯h\\x9alæ\\x16½1\\tÑ\\x1b{{ªÀ\\x91\\x8diÚ¿\\x0e÷Mvir\\x81êzc±\\x13*\\x97ï\\x87\\x07¼\\x83j<vc2]\\x9a\\x95Zd\\x99Aicò4{è¹6É¯?¯i3e6¼cÆ»\\x92\\x95Ý³³{\\x96vKÆm&1Å\\x15lIü\\n*ïtf¶g\\x9d\\x0fmoê`\\x952\\x87=ü×\\x07\\x10\\x909ÓÄ9¾£\\xa0ï\\x83±\\x1fÞ\\x8er\\x82\\t\\xa0¡|ê\\x19\\x18ªý\\x03\\x89\\x82a\\x9eßº\\x8bÅ\\x07d\\x8bÒX>N\\x17R\\x97\\x10Òc¹_^+\\x9dTîÝû+³âÆ\\x8a8\\x00þÉCâ\\x8b\\x1a\\x80u\\x00\\x8fîñ\\x05Qî(½[`\\x12²ùò\\x0e²qÑ\\x19â\\x14{\\x8apQñß\\x00;Ë\\x0c\\x97p\\x94(h\\t>7\\x05¶\\x1e7ühÕ\\x06\\x0b\\x86é×»H\\x18\\x9bwÁ¹\\x894<\\x94Å\\x0c\\x96ýÙ\\x02o\\x9eØj8)s\\x02È3Nþ\\x06Ú»\\x8bÇþg3ÿ\\x8aÉÖt\\x1f\\x90\\x8d:¡Åz r»\\x8e]ô\\x946B2\\x91°\\x0e<\\x8e×\\x8eÄQÇ´±àùµo¡nH®â\\x0e=&\\x1e\\tI>\\x00ôÑ$[ÁÜîÝ£Ó\\x11ì\\x14Ð<\\x89\\x85Z\\x12\\x87÷\"\\nÈCb~.²J\\\\Ü\\x02Üõ]Ø\\x08äiäV\\x9f{Þ;Ç6\\x0cî ìF-}ñû¸\\x84KS\\x1dÝËX_\\x9f9\\x16ü!¨¥ðÿ\\x85b£\\r\\x9b}U?\\x9aÃ7]¥Y¬VØüï\\x0f\\x8bâÝ±ËÓÉkî7ÂÙ¾Ë\\x93\\x9d÷\\x94\\x8eÛ;Ð\\x05Á0\\x9e\\x0c±ï½´Ñ,cÑ\\x06\\x08rÎý\\\\\\x01& \\x06àSj»\\x91\\x91(\\nÈEí%L?\\x18÷K\\x97Î\\x94R\\'<+\\x0cJAØ-\\r62D e\\x8aâÄ¤/\\x83\\x87\\x85\\x1a9\\x91]|\\x86¥¬÷ÒX\\x00ú\\x9c\\x9apJp´\\x9a¾\\x10XWz^\\x1f~,b5á¾\\x8eÆ\\tºäÔ\\x10\\x19n\\x1ayF{=U\\x0b\\x9e\\x97µ¯é{\\x0fk ~û\\'ÙöVí`?O®ë\\x10U\\x86Ê\\x91}[ÙÚ\"\\x80h\\x18°ÏT^=ï|\\\\v\\x8f¿\\x1b\\x9b\\x11\\x1daT:À°2]ÉjIÐ\\x0b\\x8dÈ]ê\\x9e\\x80\\x96k\\x07WÕ\\x96õ-\\x96Í\\x12\\x95\\x1e ü¾\\x01¨>¿(©çaÒ\\x9f&¾ORÚ»\\x8f\\x87¨TÌû?\\xa0?0-ä!Dô\\x96\\x11{\\x9b»þ5\\x13~ÍßÊÚ\\x92íüdOÁ92ÿ\\x1b0T\\x1cþø¾ó\"\\x97 \\'çcf½*õ\\x84³¨ÔõT<DÜ,i\\x98¶â\\x98\\x19ã\\x00\\x82\\\\\\x9bÕzÄzHk×´ÿ\\x87?:°¢ècQ/Þ;Ûg\\x81\\x13Çf\\x98þBþ\\x19w\\x92)ÖÏIôýÉ³\\x10\\x0eü÷OiOì\\x81û\\x88/\\x9d\\x92*%\\x9b¬áÚâæ\\x18z\\x86]ªÉÐêæ\\x81Ð1Ùð\\x94îDñcñwÖ\\x1e\\x1c\\x1fÜS\\x12¤w¢\\'ÎsMe\"fÞmW£\\x0c8Wz\\x82(Üî`vL\\x01IÂ\\x9eæ\\x87ê2P&ÑJ\\x86!f\\x98=\\x83S³\\x1aX\\x9e\\x05\\x17ÞÄL®À°½\\x1f\\x1c¥]o\\x8bÃ\\x0c\\x12EÀ\\x7f2\\tÏcó¥\\x7f©Û\\x03\\x991(X\\x14j\\x9dà\\nPÓ;r±ü$\\x9aEøq?Oûñ¸C\\x16â·\\x15¦¤©\\x16nÊ\\rCë®Ò§Ø,\\x95µW\\x9ezK\\x81Ç¯ï¬\\x16\\xa0*\\x0erÛP\\x9d\\x15\\x89òtò\\x12\\x99TXþ\\x8fá\\x14\\x04>ÉÛ\\x95\\x99$\\x01ÌÃ[-8ûl\\x93ZBÍý\"°ÝFBÚf\\x01h\\x99l¤$ÞÑ\\x15PY\\x00|f4>;naý9?¤R$\\x0eL\\x7f\\x98®ò[O«:R\\x96HÒªÁ\\x97O\\n\\x91ß§6OÌ\\x12\\x85\\x9deXAM\\x8f\\x99¦{Y»\\x89\\xa0\\x1b\\x90!\\x8e µlôz æg\\tUÈÕYjöÓÛåÅ\\x19lÙm¶Ú\\x99\\x9cÚ?dÂØ\\x14ê\\x85¯ct\\x06\\x8b\\x01é«\\x91\\x1cd\\x14\\x81h|£\\x0cÐÄçþ\\x03\\x81y\\x9fä4\\x11\\x1e\\x00Ü98t9Fx0;y4>%c\\x1dAQ\\x19¢¯âßª\\'èùàÁFbò¿MGÀ\\x98\\x9fÁãØ\\x14K¾òÛ\\'\\x18c\\xa0.6\\x0eá/Ü\\x0b:¡:EÇÔÃË\\rª§¢Ã}\\x969ò8S0\\rðB,\\x9ft7\\x1dÁ\\x16A%\\x0ehy\\xadY ª·¨»g\\x9d·\\x1by\\x9cÕ©\\xad¬¤¶wÂáØ\\x13ô$pTãïI\\x05¨\\x8b1àY\\x82ªe2¤jkÛ\\x19ë&ý\\x9f`ÿT2Ùd9*ç\\x96I^\\x9c»\\x9bÒg~\\x1e2\\x0fo×ÿ\\x98óe²\\x12-+E+4>ÔÀ\\x82S\\x93¸Ê\\x84Û]Gß\\x0e¦¾\\x93¦¦º$ýuÌ\\x9d\\x0f{ùêkµF}#Ð_)±$È¼ö¯}\\x9aîqÜ2ïÈÂ\\x92Ò\\x17;a¸Ædåt\\x84h¥ ¶@2eÈ\\x9aäî¤¦ ¹\\x1d®¡¡\\rªH\\x0f\\n\\x10Am$7,ýp$qÆä.Ì\\x131\\x17ËR\\x81\\x8c¢ÓÞ9Ð2\\x81RQn´\\x8c;\\x1dÐ9QÅ\"\\n£\\x0b7sý£\\xadÀ\\x0eÃ9,\\x1b\\x02à\\x9d\\x08fîôM]>Aæÿ\\táÙÇ\\x1fIbëððKÇ\\x98\\x1a\\x86\\x83JK#%¤\\x99Â\\x12>\\x94²4\\x80\\x96K\\x81âÈË\\x85zÆo\\x16ÂRMe\"êQ\\x8a\\x91+`\\x8aÔ:\\x18Õ\\x97ñ\\x91\\x8bá*Ê(+£ñ´\\x81È\\x17P\\x04ÙÂ]ØÇ\\x04xA¬\\x10§ò\\x82<%Ç?\\x8d}MôÝ\\'jd\\x16I»m¡£\\x00ÝFÀ:7\\x92Óý\\x06\\x87ä~Ò8:Ç4ú\\x872 ë\\x9f=\\x9c\\x9e\\'¼\\x7f·º»\\x8eEW5¹|ë\\x96B°qæ\\x1dÖ!d<³ò\\x9eÓ\\x92LÝ¼D\\\\\\x84Ç\\x89wmq\\x05*êB\\x0e\\x85ÍIx-\\x13V´\\x14Æ\\x84\\'×Ó½\\x84Ð\\x81\\x87-Èíi>\\x94IÑ¥\\x7fÒúDÓ´uçI\\x03æ\\x0e\\x9f!\\x04Ê:°Ñz`ñô\\x1cÒ£\\x1b\\x97f\"'"
      ]
     },
     "execution_count": 6,
     "metadata": {},
     "output_type": "execute_result"
    }
   ],
   "source": [
    "fuzzer(4096, 0, 256)"
   ]
  },
  {
   "cell_type": "code",
   "execution_count": 7,
   "metadata": {},
   "outputs": [],
   "source": [
    "import fuzzingbook.bookutils.setup\n",
    "from typing import Dict, Tuple, Union, List, Any\n",
    "import fuzzingbook.Intro_Testing"
   ]
  },
  {
   "cell_type": "code",
   "execution_count": 8,
   "metadata": {},
   "outputs": [],
   "source": [
    "from fuzzingbook.Fuzzer import Fuzzer, Runner, RandomFuzzer, PrintRunner, ProgramRunner"
   ]
  },
  {
   "cell_type": "code",
   "execution_count": 9,
   "metadata": {},
   "outputs": [
    {
     "data": {
      "text/plain": [
       "'!7#%\"*#0=)$;%6*;>638:*>80\"=</>(/*:-(2<4 !:5*6856&?\"\"11<7+%<%7,4.8,*+&,,$,.\"5%<%76< -5'"
      ]
     },
     "execution_count": 9,
     "metadata": {},
     "output_type": "execute_result"
    }
   ],
   "source": [
    "random_fuzzer = RandomFuzzer()\n",
    "random_fuzzer.fuzz()"
   ]
  },
  {
   "cell_type": "code",
   "execution_count": 10,
   "metadata": {},
   "outputs": [
    {
     "name": "stdout",
     "output_type": "stream",
     "text": [
      "Produce strings of `min_length` to `max_length` characters\n",
      "           in the range [`char_start`, `char_start` + `char_range`)\n"
     ]
    }
   ],
   "source": [
    "print(RandomFuzzer.__init__.__doc__)"
   ]
  },
  {
   "cell_type": "code",
   "execution_count": 11,
   "metadata": {},
   "outputs": [
    {
     "data": {
      "text/plain": [
       "'ASZLNGPYSUREZEHVCQCG'"
      ]
     },
     "execution_count": 11,
     "metadata": {},
     "output_type": "execute_result"
    }
   ],
   "source": [
    "random_fuzzer = RandomFuzzer(min_length=10, max_length=20, char_start=65, char_range=26)\n",
    "random_fuzzer.fuzz()"
   ]
  },
  {
   "cell_type": "code",
   "execution_count": 12,
   "metadata": {},
   "outputs": [
    {
     "name": "stdout",
     "output_type": "stream",
     "text": [
      "YGPHNHONEHCZR\n"
     ]
    },
    {
     "data": {
      "text/plain": [
       "('YGPHNHONEHCZR', 'UNRESOLVED')"
      ]
     },
     "execution_count": 12,
     "metadata": {},
     "output_type": "execute_result"
    }
   ],
   "source": [
    "print_runner = PrintRunner()\n",
    "random_fuzzer.run(print_runner)"
   ]
  },
  {
   "cell_type": "code",
   "execution_count": 13,
   "metadata": {},
   "outputs": [
    {
     "data": {
      "text/plain": [
       "'654'"
      ]
     },
     "execution_count": 13,
     "metadata": {},
     "output_type": "execute_result"
    }
   ],
   "source": [
    "fuzzer(100, ord('0'), 10)"
   ]
  },
  {
   "cell_type": "code",
   "execution_count": 14,
   "metadata": {},
   "outputs": [],
   "source": [
    "import os\n",
    "import tempfile"
   ]
  },
  {
   "cell_type": "code",
   "execution_count": 15,
   "metadata": {},
   "outputs": [
    {
     "name": "stdout",
     "output_type": "stream",
     "text": [
      "C:\\Users\\Sunil\\AppData\\Local\\Temp\\tmpjjlkebrp\\input.txt\n"
     ]
    }
   ],
   "source": [
    "basename = \"input.txt\" \n",
    "tempdir = tempfile.mkdtemp()\n",
    "FILE = os.path.join(tempdir, basename)\n",
    "print(FILE)"
   ]
  },
  {
   "cell_type": "code",
   "execution_count": 16,
   "metadata": {},
   "outputs": [],
   "source": [
    "data = fuzzer()\n",
    "with open(FILE, \"w\") as f:\n",
    "    f.write(data)"
   ]
  },
  {
   "cell_type": "code",
   "execution_count": 17,
   "metadata": {},
   "outputs": [
    {
     "name": "stdout",
     "output_type": "stream",
     "text": [
      "7*8=$&&\n"
     ]
    }
   ],
   "source": [
    "contents = open(FILE).read()\n",
    "print(contents)\n",
    "assert contents == data"
   ]
  },
  {
   "cell_type": "code",
   "execution_count": 18,
   "metadata": {},
   "outputs": [],
   "source": [
    "import os \n",
    "import subprocess"
   ]
  },
  {
   "cell_type": "code",
   "execution_count": 19,
   "metadata": {},
   "outputs": [],
   "source": [
    "program = 'notepad'\n",
    "with open(FILE, 'w') as f:\n",
    "    f.write(\"2 + 2\\n\")\n",
    "result = subprocess.run([program, FILE],\n",
    "                        stdin=subprocess.DEVNULL,\n",
    "                        stdout=subprocess.PIPE,\n",
    "                        stderr=subprocess.PIPE,\n",
    "                        universal_newlines=True)"
   ]
  },
  {
   "cell_type": "code",
   "execution_count": 20,
   "metadata": {},
   "outputs": [],
   "source": [
    "trials = 10\n",
    "program = 'notepad'\n",
    "\n",
    "runs = []\n",
    "for i in range(trials):\n",
    "    data = fuzzer()\n",
    "    with open(FILE, \"w\") as f:\n",
    "        f.write(data)\n",
    "    result = subprocess.run([program, FILE],\n",
    "                            stdin=subprocess.DEVNULL,\n",
    "                            stdout= subprocess.PIPE,\n",
    "                            stderr=subprocess.PIPE,\n",
    "                            universal_newlines=True)\n",
    "    runs.append((data, result))"
   ]
  }
 ],
 "metadata": {
  "kernelspec": {
   "display_name": "Python 3",
   "language": "python",
   "name": "python3"
  },
  "language_info": {
   "codemirror_mode": {
    "name": "ipython",
    "version": 3
   },
   "file_extension": ".py",
   "mimetype": "text/x-python",
   "name": "python",
   "nbconvert_exporter": "python",
   "pygments_lexer": "ipython3",
   "version": "3.12.2"
  }
 },
 "nbformat": 4,
 "nbformat_minor": 2
}
