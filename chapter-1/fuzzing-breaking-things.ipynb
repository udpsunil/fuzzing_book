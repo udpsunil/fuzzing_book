{
 "cells": [
  {
   "cell_type": "code",
   "execution_count": 1,
   "metadata": {},
   "outputs": [],
   "source": [
    "import random"
   ]
  },
  {
   "cell_type": "code",
   "execution_count": 2,
   "metadata": {},
   "outputs": [],
   "source": [
    "def fuzzer(max_length=100, char_start=32, char_range=32):\n",
    "    \"\"\"A string of up to max_length characters in  the range\n",
    "    ['char_start', 'char_start' + 'char_range']\"\"\"\n",
    "    string_length = random.randrange(0, max_length+1)\n",
    "    out = \"\"\n",
    "    for i in range(0, string_length):\n",
    "        out += chr(random.randrange(char_start, char_start + char_range))\n",
    "    return out"
   ]
  },
  {
   "cell_type": "code",
   "execution_count": 31,
   "metadata": {},
   "outputs": [
    {
     "data": {
      "text/plain": [
       "'.6?(3+%9! ()5((214%\\'?&!+.%07?7*<29\"2#()2);01\\'= 7$%<%/5+52753%:4:%*7(?9==,:+&$,6;\"?-*1:-<=-9'"
      ]
     },
     "execution_count": 31,
     "metadata": {},
     "output_type": "execute_result"
    }
   ],
   "source": [
    "fuzzer()"
   ]
  },
  {
   "cell_type": "code",
   "execution_count": 35,
   "metadata": {},
   "outputs": [
    {
     "data": {
      "text/plain": [
       "'\\n9Óò\\x85\\x86¦Ì£\\x92Åù\\x1f{\\x8dO\\x9f/[\\x9bq\\x99\\x1d\\x96\\x1cGä\\x1c¸L\\x13sü7\\x14P\\x17\\x9fo«â¢\\x10Bä \\x16KlBr\\xad³Åw`Xh³ôâ8,x«\\x9b¬9$a÷\\x9c¨\\x8eî\\x1cº&S \\x96r\\x92îåº\\x18\\\\/Øà#ñ\\x1a#++GÃÔ\\x143\\x96ä\\x8b^÷Ð\\tós_\\tÈ³\\x99ß);\\x94\\x13«\\x0bÚn8:Ái«¸·|râG³ñF\\x12\\x8ca\\x1eÁ\\x1b|÷\\x8e>\\tX\\x92¡âB6\\x86\\x1e¨×ÊÈ\\x81´ÿd\\x08Û¶M\\x9c\\x0f\\x7f°º8\\x8b\\x95Ö\\x00\\x7fwKB£ç÷@{ö\\x8c\\x0bË\\x14\\x03`/¬\\x04]00\\x9c\\xa0ñÄ\\x96û\"\\x13\\rö.At\\x98Ü\\x8e\\xa0¼¨s\\x9aê\\x87ùa\\x15åkº4µ6î{ç\\x97Ì&\\x88[³SÅ\\\\,a\\x17¬âC\\x1fÍô°4xúùmùc°e\\x1e\\x83ÏG¡GV\\x01þ*\\x1a8Óï\\x7f\\x82äÄ[\\x95½\\x8c\\x9cN\\x198ùëKÝV+\\x93¤ðà\\x1fìE\\nH\\x87\\x9fÇ¨ÞPÏ¹U²Ä\\r\\x83\\\\r\\x89Êôò¸mo6\\x19á\\x11\\x9a<,1F\\x1f\\x8dS\\xad÷\\x11ù6<6lÕÁ=òò\\x87ÕvF¸À\\x89\\x1b2jÄO§°Å\\x06õ\\x94Á¢\\x03ò|ãá(\\x899ê\\x0f%&ùÀdægäÖ\\x1dú\\x86á\\x91²El\\x8b\\x93ðë\\'¼\\xa0FEê:T_@-¶\\x80Þl$8Ímäs/o\\x00gÖ\\xad\\x7fÉ`Ù,\\x90ó:\\x81\\x80>Æoô¥#¹\\n©õUWEH\\ri\\\\²\\x1e\\x8bò<Å¾Ð\\x828¥Åà\\x1f¸^÷aVD\\x0b\\x85YÔ\\x96j40)\\x0f5JÏÐ ¿Sµ\\x92ÞèºRh*Dã;·$y\\x8c|6\\x94¨X\\xadþ0ÂÄ\\x96\\x04üb$ïBj\\x93ÈQ\\x94;M\\\\[\\tí\\x9aÒ@¾\\x0f\\xa0\\x8bÍ0\\x04½\\x1b¤<cýdÐ\\x1d^~\\\\Ay³ç_K\\x04yÞ¡_á2çN\\x9f¼\\x1fÖ\\x8fz\\x85£x·é\\x0e§¨\\x8aUÔm¤¥ïSª°\\x04 \\x14\\x9fZ|ù\\x13Þ\\x88fÈ\\x01-\\x98eB%ïøïX\\x88)dq÷\\x84¸ß¸\\x88\\x91²Üp1\\x12\\x12\\x13M\\xadÝKÈObõ\\x12XéÒ ,\\x1cßÔW\\x04©\\x02ÿ7lâ\\x9dÛµX\\x9c*\\n^¡<}~yF\\\\Üu½Æ¥!\\x17å\\x94¶\\x85\\x06\"\\x1eî¶Q>\\x95S¢+_ÉÌ\\tö0i\\x86\\x14Mí\\x84\\x18³ü]ô¬2fÈ¿»\\x0båÔ\\x89\\x92\\x05\\'gtW¬\\x81\\x95m\\nUb¾\\xad³§\\x06\\x1cÈ\\x1eÙDéëÊXâPaö·ÓÃ\\x07î\\x00QÓâ \\x96\\x00±XiÂøàp:\\t2n\\x0c\\x1bá\\x87\\x12\\x9d|Ës\\x98\\x8cl»\\x8f6f\\x12\\x04Î\\x86½³Ì]\\x18\\x91\\x06¢ü±\\x04Ö\\x104õ5\\x15ã\\x18¨\\x84¡SÆA/Î~±¯N\\x06\\x18\\x8e-Ì&ìö\\x87\\x8a;\\x19c\\x04(¸éðHÆ»å;\\x0bðÇ\\x93²¤\\x82ê_ç\\x80DÄì\\x8b4B%\\\\U^3eL\\x86`\\xadÌ°ß\\x0e±Æs\\x0b¯\\x92VÝkÝ\\x7f\\x90Îª£ ~¸cIåÆî5\\x08_Yw%\\x85ÇM\\x05²\\x90^\\x95\\xa0°}îðô\\x0fÏ\\x98¡Å©ç>e¤\\x9fò«Bôõ:>°Kßo¯~-ÉÇàMT\\x1dï\\x1fk®æ\\x98ú[a\\x9b\\x95ùï#³\\x94\\x87ö¨9Ó{ã\\x85Æ¹ð0¥ ê\\x03Ýb¦\\x8f\\x92\\x82&Ìû\\x9cõC]ÖJ2Ê¯\\x92£r\\x82½¨\\xad\\x15H)\\xadÅdke\\x00\\x85¸Y¢\\x93x³ì_æ?TñÝ\\x8fÒzêçË4\\x86<mp§º\\xadÓ\\xa0\\x92òÙ\\x14â/É¤rfÕÆt{«\\x97_RW¥uÁ¼\\x13¿I9\\x82\\x80\\x9f6àc\\x9fVûKá\\x8c \\x96y`ÃaHZöÛ\\x07\\\\Ó\\x92\\x15ð4ë®\\x92ñÈ\\x9fCaB\\t%¡¾oëðÄõ\\x90UºaÀ|ûÏa\\x13hs«a1=À\\x0bÙo>aÚ#\\x06ì\\x08,1\\x15Ûó® á©\\x9787ÿ\\\\\\\\\\x17øGX\\x9a\\x7fa\\x8e§âe\\x04\\\\\\x02\\x18vþ\\x8f¯#ä\\x95yþ©¼³¿C}½=\\x8b´\\tàå\\x1a\\x18±\\x12È´§\\x0b\\x82\\x89\\x18y~\\x19ú\\x7f\\x8d\\x8etÞ\\x9bBå¦ãí\\x95\\x9aÊ\\x16l+\\x97\\x92\\x07ý$\\x00\\x1b{\\x7f\\x04¢7\\x139&\\x8c\\t°\\x16#\\x10Õ\\x82w\\x9eo\\x8bD\\x9dÐ\\x97âk r&õ8Æa¯\\x04c¿¨#_\\x1a¶Ì²Ã\\x13\\x17pâ\\x12´á\\x01H5üÇ~HÍ]$¥é;¾K)\\x04áêA\\x97ÐÒØ×û0\\x81û©Ç\\xa0ª\\x84\\\\ ±Jÿ+}\\x90\\x93ô\\x8bÊM\\\\qBÌ/à\\x87®}qÔQB©ÍåØ\\x86còúçãÌ7\\xa0t\\x0cjj\\njt\\x89à~\\x0es2S¢\\x84\\x899¸\"0ç\\x08ù|5\\x8e\\x87Lµ\\x12Ñîª\\x93µ\\x836ã©Eß\\x803\\x8e&öo\\x9aÇÁÐ\\x8d\\x91\\x9a\\x9bØ\\x83\\x1aÕÆqóT+æ¤\\x86ÿ²éI/\\x0b¯Ù²\\x06\\x10vª\\x95\\x8e=\\x1f!²ýù\\x1dÐkëÔ\\x19qM\\x8fëÝ%Ó¤3rÃûK\\x8fØ\\x99^w·Ùo\\x13Ì\\xad\\x8c*\\r&\\'\\x88@U\\x17¡FßW\\x92]Ê,|LCÀZG\\x9dFpÌ;Öná\\x8eF\\x99}¸WË³Î\\x13\\x01\\\\\\t\\x0fþAVB\\'/\\x97É\\x072_»ìE\\x1aÐkSF¯Ø`\\x93{\\x86lí(O÷/ìuàèA\\x99bx§ÏbÄ\\x15\\x85Ø(\\x91ó\\x1cÍÚV×(÷6ëV\\x94\\x1c\\x10õL}6ùþE\\x96V\\x8d7nh\\x9b½ëc}\\x13ÍyÀ;\\x8a#°\\x1fE\\x8aã4!\\x96s\\x9dÝ\\x87Ù@d\\x194I\\x83\\x83cùà®xOõÂ2²\\x15fµØh[ü\\x15:&,\\x89hÕOÈ\\x99%\\x82\\x8e/[¬{]\\x16Õ\\x807PÈ#Û\\x96m\\x8b\\xadòm\\x01l\\x90\\x9c5\\'(¹¬ú7Ø\\x90#Ü¢{\\\\½º\\x02Ðð+\\x03\\x1e¿\\x16\\x06=m\\x14M\\x0få`Å\\x9c\\x0f\\x06z±5`Òæ°º{+\\x7f\\x00\\x1eÐ¹\\x1e\\x8bP\\x00\"rQSÎ^\\x97Ê\\x0eW\\xa0J»àJ\\x98#Gû\\x82a<\\x886\\xad¼LµÓ\\x11%\\xa0ºH[\\x1a\\x03î\\x1bØ\\x95\\x1dçIÍ\\x7f'"
      ]
     },
     "execution_count": 35,
     "metadata": {},
     "output_type": "execute_result"
    }
   ],
   "source": [
    "fuzzer(4096, 0, 256)"
   ]
  }
 ],
 "metadata": {
  "kernelspec": {
   "display_name": "Python 3",
   "language": "python",
   "name": "python3"
  },
  "language_info": {
   "codemirror_mode": {
    "name": "ipython",
    "version": 3
   },
   "file_extension": ".py",
   "mimetype": "text/x-python",
   "name": "python",
   "nbconvert_exporter": "python",
   "pygments_lexer": "ipython3",
   "version": "3.12.2"
  }
 },
 "nbformat": 4,
 "nbformat_minor": 2
}
