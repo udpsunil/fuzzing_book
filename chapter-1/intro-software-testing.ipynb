{
 "cells": [
  {
   "cell_type": "code",
   "execution_count": 4,
   "metadata": {},
   "outputs": [],
   "source": [
    "def my_sqrt(x):\n",
    "    \"\"\"Computes the square root of x, using the Newton-Raphson method\"\"\"\n",
    "    approx = None \n",
    "    guess = x / 2\n",
    "    while approx != guess:\n",
    "        approx = guess \n",
    "        guess = (approx + x / approx) / 2\n",
    "    return approx"
   ]
  },
  {
   "cell_type": "code",
   "execution_count": 5,
   "metadata": {},
   "outputs": [],
   "source": [
    "def my_sqrt_with_log(x):\n",
    "    \"\"\"Computes the square root of x, using Newton-Raphson method\"\"\"\n",
    "    approx = None\n",
    "    guess = x / 2\n",
    "    while approx != guess:\n",
    "        print(\"approx = \", approx)\n",
    "        approx = guess \n",
    "        guess = (approx + x / approx) / 2\n",
    "    return approx"
   ]
  },
  {
   "cell_type": "code",
   "execution_count": 6,
   "metadata": {},
   "outputs": [
    {
     "data": {
      "text/plain": [
       "1.7720045146669352"
      ]
     },
     "execution_count": 6,
     "metadata": {},
     "output_type": "execute_result"
    }
   ],
   "source": [
    "my_sqrt(3.14)"
   ]
  },
  {
   "cell_type": "code",
   "execution_count": 7,
   "metadata": {},
   "outputs": [
    {
     "name": "stdout",
     "output_type": "stream",
     "text": [
      "approx =  None\n",
      "approx =  4.5\n",
      "approx =  3.25\n",
      "approx =  3.0096153846153846\n",
      "approx =  3.000015360039322\n",
      "approx =  3.0000000000393214\n"
     ]
    },
    {
     "data": {
      "text/plain": [
       "3.0"
      ]
     },
     "execution_count": 7,
     "metadata": {},
     "output_type": "execute_result"
    }
   ],
   "source": [
    "my_sqrt_with_log(9)"
   ]
  },
  {
   "cell_type": "code",
   "execution_count": 8,
   "metadata": {},
   "outputs": [
    {
     "name": "stdout",
     "output_type": "stream",
     "text": [
      "Test passed\n"
     ]
    }
   ],
   "source": [
    "my_sqrt(2) * my_sqrt(2)\n",
    "result = my_sqrt(4)\n",
    "expected_result = 2.0\n",
    "if result == expected_result:\n",
    "    print(\"Test passed\")\n",
    "else:\n",
    "    print(\"Test failed\")"
   ]
  },
  {
   "cell_type": "code",
   "execution_count": 9,
   "metadata": {},
   "outputs": [],
   "source": [
    "EPSILON = 1e-8\n",
    "assert abs(my_sqrt(4) - 2) < EPSILON"
   ]
  },
  {
   "cell_type": "code",
   "execution_count": 10,
   "metadata": {},
   "outputs": [],
   "source": [
    "def assertEquals(x, y, epsilon=1e-8):\n",
    "    assert abs(x-y) < epsilon"
   ]
  },
  {
   "cell_type": "code",
   "execution_count": 11,
   "metadata": {},
   "outputs": [],
   "source": [
    "assertEquals(my_sqrt(4), 2)\n",
    "assertEquals(my_sqrt(9), 3)\n",
    "assertEquals(my_sqrt(100), 10)"
   ]
  },
  {
   "cell_type": "code",
   "execution_count": 12,
   "metadata": {},
   "outputs": [],
   "source": [
    "assertEquals(my_sqrt(2) * my_sqrt(2), 2)\n",
    "assertEquals(my_sqrt(3) * my_sqrt(3), 3)\n",
    "assertEquals(my_sqrt(42.11) * my_sqrt(42.11), 42.11)"
   ]
  },
  {
   "cell_type": "code",
   "execution_count": 13,
   "metadata": {},
   "outputs": [],
   "source": [
    "for n in range(1, 1000):\n",
    "    assertEquals(my_sqrt(n)*my_sqrt(n), n)"
   ]
  },
  {
   "cell_type": "code",
   "execution_count": 14,
   "metadata": {},
   "outputs": [],
   "source": [
    "import fuzzingbook.bookutils.setup"
   ]
  },
  {
   "cell_type": "code",
   "execution_count": 15,
   "metadata": {},
   "outputs": [],
   "source": [
    "from fuzzingbook.Timer import Timer"
   ]
  },
  {
   "cell_type": "code",
   "execution_count": 16,
   "metadata": {},
   "outputs": [
    {
     "name": "stdout",
     "output_type": "stream",
     "text": [
      "0.01739339999949152\n"
     ]
    }
   ],
   "source": [
    "with Timer() as t:\n",
    "    for n in range(1, 10000):\n",
    "        assertEquals(my_sqrt(n)*my_sqrt(n), n)\n",
    "print(t.elapsed_time())"
   ]
  },
  {
   "cell_type": "code",
   "execution_count": 18,
   "metadata": {},
   "outputs": [],
   "source": [
    "def my_sqrt_checked(x):\n",
    "    root = my_sqrt(x)\n",
    "    assertEquals(root * root, x)\n",
    "    return root"
   ]
  },
  {
   "cell_type": "code",
   "execution_count": 19,
   "metadata": {},
   "outputs": [
    {
     "data": {
      "text/plain": [
       "1.414213562373095"
      ]
     },
     "execution_count": 19,
     "metadata": {},
     "output_type": "execute_result"
    }
   ],
   "source": [
    "my_sqrt_checked(2.0)"
   ]
  },
  {
   "cell_type": "code",
   "execution_count": 29,
   "metadata": {},
   "outputs": [],
   "source": [
    "def sqrt_program(arg: str) -> None:\n",
    "    try:\n",
    "        x = float(arg)\n",
    "    except ValueError:\n",
    "        print(\"Illegal Input\")\n",
    "    else:\n",
    "        if x < 0:\n",
    "            print(\"Illegal Number\")\n",
    "        else:\n",
    "            print('The root of', x, 'is', my_sqrt(x))"
   ]
  },
  {
   "cell_type": "code",
   "execution_count": 30,
   "metadata": {},
   "outputs": [
    {
     "name": "stdout",
     "output_type": "stream",
     "text": [
      "The root of 4.0 is 2.0\n"
     ]
    }
   ],
   "source": [
    "sqrt_program(\"4\")"
   ]
  },
  {
   "cell_type": "code",
   "execution_count": 31,
   "metadata": {},
   "outputs": [],
   "source": [
    "from fuzzingbook.ExpectError import ExpectTimeout, ExpectError"
   ]
  },
  {
   "cell_type": "code",
   "execution_count": 32,
   "metadata": {},
   "outputs": [
    {
     "name": "stdout",
     "output_type": "stream",
     "text": [
      "Illegal Number\n"
     ]
    }
   ],
   "source": [
    "with ExpectTimeout(1):\n",
    "    sqrt_program(\"-1\")"
   ]
  },
  {
   "cell_type": "code",
   "execution_count": 33,
   "metadata": {},
   "outputs": [
    {
     "name": "stdout",
     "output_type": "stream",
     "text": [
      "Illegal Input\n"
     ]
    }
   ],
   "source": [
    "with ExpectError():\n",
    "    sqrt_program(\"xyzzy\")"
   ]
  },
  {
   "cell_type": "code",
   "execution_count": 34,
   "metadata": {},
   "outputs": [],
   "source": [
    "def my_sqrt_fixed(x):\n",
    "    assert 0 <= x\n",
    "    if x == 0:\n",
    "        return 0 \n",
    "    return my_sqrt(x)"
   ]
  },
  {
   "cell_type": "code",
   "execution_count": 35,
   "metadata": {},
   "outputs": [],
   "source": [
    "assert my_sqrt_fixed(0) == 0"
   ]
  },
  {
   "cell_type": "code",
   "execution_count": 36,
   "metadata": {},
   "outputs": [
    {
     "name": "stderr",
     "output_type": "stream",
     "text": [
      "Traceback (most recent call last):\n",
      "  File \"C:\\Users\\Sunil\\AppData\\Local\\Temp\\ipykernel_17952\\305965227.py\", line 2, in <module>\n",
      "    root = my_sqrt_fixed(-1)\n",
      "           ^^^^^^^^^^^^^^^^^\n",
      "  File \"C:\\Users\\Sunil\\AppData\\Local\\Temp\\ipykernel_17952\\2386931132.py\", line 2, in my_sqrt_fixed\n",
      "    assert 0 <= x\n",
      "AssertionError (expected)\n"
     ]
    }
   ],
   "source": [
    "with ExpectError():\n",
    "    root = my_sqrt_fixed(-1)"
   ]
  },
  {
   "cell_type": "markdown",
   "metadata": {},
   "source": [
    "# Exercises"
   ]
  },
  {
   "cell_type": "code",
   "execution_count": 43,
   "metadata": {},
   "outputs": [],
   "source": [
    "def shellsort(elems):\n",
    "    sorted_elems = elems.copy()\n",
    "    gaps = [701, 301, 132, 57, 23, 10, 4, 1]\n",
    "    for gap in gaps:\n",
    "        for i in range(gap, len(sorted_elems)):\n",
    "            temp = sorted_elems[i]\n",
    "            j = i \n",
    "            while j >= gap and sorted_elems[j - gap] > temp:\n",
    "                sorted_elems[j] = sorted_elems[j -gap]\n",
    "                j -= gap \n",
    "            sorted_elems[j] = temp \n",
    "    return sorted_elems"
   ]
  },
  {
   "cell_type": "code",
   "execution_count": 46,
   "metadata": {},
   "outputs": [
    {
     "data": {
      "text/plain": [
       "[1, 2, 3]"
      ]
     },
     "execution_count": 46,
     "metadata": {},
     "output_type": "execute_result"
    }
   ],
   "source": [
    "shellsort([3, 2, 1])"
   ]
  }
 ],
 "metadata": {
  "kernelspec": {
   "display_name": "Python 3",
   "language": "python",
   "name": "python3"
  },
  "language_info": {
   "codemirror_mode": {
    "name": "ipython",
    "version": 3
   },
   "file_extension": ".py",
   "mimetype": "text/x-python",
   "name": "python",
   "nbconvert_exporter": "python",
   "pygments_lexer": "ipython3",
   "version": "3.12.2"
  }
 },
 "nbformat": 4,
 "nbformat_minor": 2
}
